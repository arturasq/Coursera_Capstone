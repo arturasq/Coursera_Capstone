{
 "cells": [
  {
   "cell_type": "markdown",
   "metadata": {},
   "source": [
    "# Adding Coordinates to Neighborhood DataFrame"
   ]
  },
  {
   "cell_type": "code",
   "execution_count": 4,
   "metadata": {},
   "outputs": [],
   "source": [
    "# adding Neighborhood DataFrame\n",
    "import requests\n",
    "from bs4 import BeautifulSoup\n",
    "from bs4 import SoupStrainer\n",
    "import pandas as pd\n",
    "import numpy as np\n",
    "import ssl \n",
    "\n",
    "# Disable SSL certificate verification\n",
    "try:\n",
    "    _create_unverified_https_context = ssl._create_unverified_context\n",
    "except AttributeError:\n",
    "    # Legacy Python that doesn't verify HTTPS certificates by default\n",
    "    pass\n",
    "else:\n",
    "    # Handle target environment that doesn't support HTTPS verification\n",
    "    ssl._create_default_https_context = _create_unverified_https_context\n",
    "\n",
    "url = 'https://en.wikipedia.org/wiki/List_of_postal_codes_of_Canada:_M'\n",
    "html = requests.get(url)\n",
    "html_b = BeautifulSoup(html.text, 'html.parser')\n",
    "value =[]\n",
    "df = pd.DataFrame(columns = ['Postcode', 'Borough', 'Neighbourhood'])\n",
    "for i in html_b.find(class_ = \"wikitable sortable\" ).select('tr'):\n",
    "    value.append(i.get_text())\n",
    "\n",
    "for b in value:\n",
    "    x = b.splitlines()\n",
    "    if x[2] != 'Not assigned':\n",
    "        if x[3] == 'Not assigned':\n",
    "            x[3] = x[2]  \n",
    "        if df.loc[df['Postcode'] == x[1]].empty is False:\n",
    "            indx = df.index[df['Postcode'] == x[1]].tolist()\n",
    "            name = (df.iloc[indx]['Neighbourhood'].tolist())\n",
    "            name = name[0]+', ' + x[3]\n",
    "            df['Neighbourhood'].iloc[indx] = name\n",
    "        else: \n",
    "            df = df.append({'Postcode' : x[1], 'Borough' : x[2],  'Neighbourhood': x[3]},  ignore_index=True)      \n",
    "    \n",
    "df = df.drop([0])   "
   ]
  },
  {
   "cell_type": "markdown",
   "metadata": {},
   "source": []
  },
  {
   "cell_type": "code",
   "execution_count": 5,
   "metadata": {},
   "outputs": [],
   "source": [
    "#adding extra Columns into Dataframe for coordinates\n",
    "df['Latitude'] = ''\n",
    "df['Longitude'] = ''"
   ]
  },
  {
   "cell_type": "code",
   "execution_count": 6,
   "metadata": {},
   "outputs": [],
   "source": [
    "#importing Coordinate CSV file\n",
    "url_CSV = 'https://cocl.us/Geospatial_data/Geospatial_Coordinates.csv'\n",
    "cord = pd.read_csv(url_CSV)"
   ]
  },
  {
   "cell_type": "code",
   "execution_count": 7,
   "metadata": {},
   "outputs": [],
   "source": [
    "#adding coordinate values to Neighborhood DataFrame\n",
    "p=0\n",
    "while p < len(cord.index.values):                                          #sets loop for number of rows\n",
    "    post_code = cord.loc[p]['Postal Code']                              #get post code\n",
    "    indx = df.index[df['Postcode'] == post_code].tolist()       #finds index values of the post code in Neighborhood DataFrame\n",
    "    df.loc[indx[0]]['Latitude'] = cord.loc[p]['Latitude']          #add Latidute to the df\n",
    "    df.loc[indx[0]]['Longitude'] = cord.loc[p]['Longitude']     #add Longitude to the df\n",
    "    p += 1"
   ]
  },
  {
   "cell_type": "code",
   "execution_count": 8,
   "metadata": {},
   "outputs": [
    {
     "data": {
      "text/html": [
       "<div>\n",
       "<style scoped>\n",
       "    .dataframe tbody tr th:only-of-type {\n",
       "        vertical-align: middle;\n",
       "    }\n",
       "\n",
       "    .dataframe tbody tr th {\n",
       "        vertical-align: top;\n",
       "    }\n",
       "\n",
       "    .dataframe thead th {\n",
       "        text-align: right;\n",
       "    }\n",
       "</style>\n",
       "<table border=\"1\" class=\"dataframe\">\n",
       "  <thead>\n",
       "    <tr style=\"text-align: right;\">\n",
       "      <th></th>\n",
       "      <th>Postcode</th>\n",
       "      <th>Borough</th>\n",
       "      <th>Neighbourhood</th>\n",
       "      <th>Latitude</th>\n",
       "      <th>Longitude</th>\n",
       "    </tr>\n",
       "  </thead>\n",
       "  <tbody>\n",
       "    <tr>\n",
       "      <th>1</th>\n",
       "      <td>M3A</td>\n",
       "      <td>North York</td>\n",
       "      <td>Parkwoods</td>\n",
       "      <td>43.7533</td>\n",
       "      <td>-79.3297</td>\n",
       "    </tr>\n",
       "    <tr>\n",
       "      <th>2</th>\n",
       "      <td>M4A</td>\n",
       "      <td>North York</td>\n",
       "      <td>Victoria Village</td>\n",
       "      <td>43.7259</td>\n",
       "      <td>-79.3156</td>\n",
       "    </tr>\n",
       "    <tr>\n",
       "      <th>3</th>\n",
       "      <td>M5A</td>\n",
       "      <td>Downtown Toronto</td>\n",
       "      <td>Harbourfront, Regent Park</td>\n",
       "      <td>43.6543</td>\n",
       "      <td>-79.3606</td>\n",
       "    </tr>\n",
       "    <tr>\n",
       "      <th>4</th>\n",
       "      <td>M6A</td>\n",
       "      <td>North York</td>\n",
       "      <td>Lawrence Heights, Lawrence Manor</td>\n",
       "      <td>43.7185</td>\n",
       "      <td>-79.4648</td>\n",
       "    </tr>\n",
       "    <tr>\n",
       "      <th>5</th>\n",
       "      <td>M7A</td>\n",
       "      <td>Queen's Park</td>\n",
       "      <td>Queen's Park</td>\n",
       "      <td>43.6623</td>\n",
       "      <td>-79.3895</td>\n",
       "    </tr>\n",
       "  </tbody>\n",
       "</table>\n",
       "</div>"
      ],
      "text/plain": [
       "  Postcode           Borough                     Neighbourhood Latitude  \\\n",
       "1      M3A        North York                         Parkwoods  43.7533   \n",
       "2      M4A        North York                  Victoria Village  43.7259   \n",
       "3      M5A  Downtown Toronto         Harbourfront, Regent Park  43.6543   \n",
       "4      M6A        North York  Lawrence Heights, Lawrence Manor  43.7185   \n",
       "5      M7A      Queen's Park                      Queen's Park  43.6623   \n",
       "\n",
       "  Longitude  \n",
       "1  -79.3297  \n",
       "2  -79.3156  \n",
       "3  -79.3606  \n",
       "4  -79.4648  \n",
       "5  -79.3895  "
      ]
     },
     "execution_count": 8,
     "metadata": {},
     "output_type": "execute_result"
    }
   ],
   "source": [
    "df.head()"
   ]
  },
  {
   "cell_type": "code",
   "execution_count": null,
   "metadata": {},
   "outputs": [],
   "source": []
  }
 ],
 "metadata": {
  "kernelspec": {
   "display_name": "Python 3",
   "language": "python",
   "name": "python3"
  },
  "language_info": {
   "codemirror_mode": {
    "name": "ipython",
    "version": 3
   },
   "file_extension": ".py",
   "mimetype": "text/x-python",
   "name": "python",
   "nbconvert_exporter": "python",
   "pygments_lexer": "ipython3",
   "version": "3.6.5"
  }
 },
 "nbformat": 4,
 "nbformat_minor": 2
}
