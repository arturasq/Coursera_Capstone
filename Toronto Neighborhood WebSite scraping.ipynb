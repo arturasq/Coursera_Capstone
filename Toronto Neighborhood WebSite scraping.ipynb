{
 "cells": [
  {
   "cell_type": "markdown",
   "metadata": {},
   "source": [
    "# Toronto neighborhood list"
   ]
  },
  {
   "cell_type": "code",
   "execution_count": 1,
   "metadata": {},
   "outputs": [],
   "source": [
    "import requests\n",
    "from bs4 import BeautifulSoup\n",
    "from bs4 import SoupStrainer\n",
    "import pandas as pd\n",
    "import numpy as np"
   ]
  },
  {
   "cell_type": "markdown",
   "metadata": {},
   "source": [
    "##### Extract web site to BeautifulSoup object for data extraction."
   ]
  },
  {
   "cell_type": "code",
   "execution_count": 2,
   "metadata": {},
   "outputs": [],
   "source": [
    "url = 'https://en.wikipedia.org/wiki/List_of_postal_codes_of_Canada:_M'\n",
    "html = requests.get(url)\n",
    "html_b = BeautifulSoup(html.text, 'html.parser')"
   ]
  },
  {
   "cell_type": "markdown",
   "metadata": {},
   "source": [
    "#### Wrangle HTML file to extract needed information and create DataFrame "
   ]
  },
  {
   "cell_type": "code",
   "execution_count": 7,
   "metadata": {},
   "outputs": [
    {
     "data": {
      "text/html": [
       "<div>\n",
       "<style scoped>\n",
       "    .dataframe tbody tr th:only-of-type {\n",
       "        vertical-align: middle;\n",
       "    }\n",
       "\n",
       "    .dataframe tbody tr th {\n",
       "        vertical-align: top;\n",
       "    }\n",
       "\n",
       "    .dataframe thead th {\n",
       "        text-align: right;\n",
       "    }\n",
       "</style>\n",
       "<table border=\"1\" class=\"dataframe\">\n",
       "  <thead>\n",
       "    <tr style=\"text-align: right;\">\n",
       "      <th></th>\n",
       "      <th>Postcode</th>\n",
       "      <th>Borough</th>\n",
       "      <th>Neighbourhood</th>\n",
       "    </tr>\n",
       "  </thead>\n",
       "  <tbody>\n",
       "    <tr>\n",
       "      <th>1</th>\n",
       "      <td>M3A</td>\n",
       "      <td>North York</td>\n",
       "      <td>Parkwoods</td>\n",
       "    </tr>\n",
       "    <tr>\n",
       "      <th>2</th>\n",
       "      <td>M4A</td>\n",
       "      <td>North York</td>\n",
       "      <td>Victoria Village</td>\n",
       "    </tr>\n",
       "    <tr>\n",
       "      <th>3</th>\n",
       "      <td>M5A</td>\n",
       "      <td>Downtown Toronto</td>\n",
       "      <td>Harbourfront, Regent Park</td>\n",
       "    </tr>\n",
       "    <tr>\n",
       "      <th>4</th>\n",
       "      <td>M6A</td>\n",
       "      <td>North York</td>\n",
       "      <td>Lawrence Heights, Lawrence Manor</td>\n",
       "    </tr>\n",
       "    <tr>\n",
       "      <th>5</th>\n",
       "      <td>M7A</td>\n",
       "      <td>Queen's Park</td>\n",
       "      <td>Queen's Park</td>\n",
       "    </tr>\n",
       "  </tbody>\n",
       "</table>\n",
       "</div>"
      ],
      "text/plain": [
       "  Postcode           Borough                     Neighbourhood\n",
       "1      M3A        North York                         Parkwoods\n",
       "2      M4A        North York                  Victoria Village\n",
       "3      M5A  Downtown Toronto         Harbourfront, Regent Park\n",
       "4      M6A        North York  Lawrence Heights, Lawrence Manor\n",
       "5      M7A      Queen's Park                      Queen's Park"
      ]
     },
     "execution_count": 7,
     "metadata": {},
     "output_type": "execute_result"
    }
   ],
   "source": [
    "value =[]\n",
    "\n",
    "#extract part of HTML whihc has needed information such as post code, borough and neigborgood information\n",
    "#create list of string with information for each Postcode \n",
    "df = pd.DataFrame(columns = ['Postcode', 'Borough', 'Neighbourhood'])\n",
    "for i in html_b.find(class_ = \"wikitable sortable\" ).select('tr'):\n",
    "    value.append(i.get_text())\n",
    "\n",
    "#go over the list and extract information and create DataFrame \n",
    "for b in value:\n",
    "    x = b.splitlines()\n",
    "    if x[2] != 'Not assigned':                                                #Check if Borough has value and proceed if it does\n",
    "        if x[3] == 'Not assigned':                                           #Check if Neighborhood has value if not name same as Borough\n",
    "            x[3] = x[2]  \n",
    "        if df.loc[df['Postcode'] == x[1]].empty is False:       #Check if Postcode is already in the DataFrame, if yes, add Neighborhood to existing Neighborhood list\n",
    "            indx = df.index[df['Postcode'] == x[1]].tolist()\n",
    "            name = (df.iloc[indx]['Neighbourhood'].tolist())\n",
    "            name = name[0]+', ' + x[3]\n",
    "            df['Neighbourhood'].iloc[indx] = name\n",
    "        else: \n",
    "            df = df.append({'Postcode' : x[1], 'Borough' : x[2],  'Neighbourhood': x[3]},  ignore_index=True)   \n",
    "   \n",
    "    \n",
    "df = df.drop([0])    \n",
    "df.head()"
   ]
  },
  {
   "cell_type": "code",
   "execution_count": 4,
   "metadata": {},
   "outputs": [
    {
     "data": {
      "text/plain": [
       "(103, 3)"
      ]
     },
     "execution_count": 4,
     "metadata": {},
     "output_type": "execute_result"
    }
   ],
   "source": [
    "df.shape"
   ]
  },
  {
   "cell_type": "code",
   "execution_count": null,
   "metadata": {},
   "outputs": [],
   "source": []
  }
 ],
 "metadata": {
  "kernelspec": {
   "display_name": "Python 3",
   "language": "python",
   "name": "python3"
  },
  "language_info": {
   "codemirror_mode": {
    "name": "ipython",
    "version": 3
   },
   "file_extension": ".py",
   "mimetype": "text/x-python",
   "name": "python",
   "nbconvert_exporter": "python",
   "pygments_lexer": "ipython3",
   "version": "3.6.5"
  }
 },
 "nbformat": 4,
 "nbformat_minor": 2
}
